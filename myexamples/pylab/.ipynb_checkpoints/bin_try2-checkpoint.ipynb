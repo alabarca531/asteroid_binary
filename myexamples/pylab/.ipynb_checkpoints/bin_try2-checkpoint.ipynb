{
 "cells": [
  {
   "cell_type": "code",
   "execution_count": 21,
   "metadata": {},
   "outputs": [
    {
     "name": "stdout",
     "output_type": "stream",
     "text": [
      "The autoreload extension is already loaded. To reload it, use:\n",
      "  %reload_ext autoreload\n"
     ]
    }
   ],
   "source": [
    "%matplotlib inline\n",
    "import numpy as np\n",
    "import matplotlib.pyplot as plt\n",
    "\n",
    "#import autoreload  (for debugging external subroutines)\n",
    "%load_ext autoreload\n",
    "%autoreload 2\n",
    "\n",
    "# subroutines needed, we also need kepcart.py\n",
    "from orbsubs import *  \n",
    "from outils import *\n",
    "from scipy.signal import savgol_filter    \n",
    "\n",
    "plt.rcParams.update({'font.size': 14})\n"
   ]
  },
  {
   "cell_type": "markdown",
   "metadata": {},
   "source": [
    "### Binary simulation output plotting"
   ]
  },
  {
   "cell_type": "code",
   "execution_count": 22,
   "metadata": {},
   "outputs": [],
   "source": [
    "# global information needed!\n",
    "simdir = \"../bin1/\" # where simulation output files are found\n",
    "froot = 'e1'  # spin up starting tidally locked\n",
    "   \n",
    "m1 = 1.0;  # masses of the two bodies!  Globals!\n",
    "m2 = 0.01;  #  lower mass secondary\n",
    "GM = m1+m2 # G=1\n"
   ]
  },
  {
   "cell_type": "code",
   "execution_count": 23,
   "metadata": {},
   "outputs": [],
   "source": [
    "# plot some stuff\n",
    "def mkplot(tarr,aaarr,eearr,iiarr,lnarr,ararr,maarr,om1,om2,\\\n",
    "        obliquity_deg1,obliquity_deg2,meanmotion,rotMx,r_change, r_value,froot,ofilename):\n",
    "    nvpanels = 6\n",
    "    f,axarr =  plt.subplots(nvpanels,1, dpi=150, figsize=(5,12), sharex=True)\n",
    "    plt.autoscale(enable=True, axis='x', tight=True)\n",
    "    plt.subplots_adjust(left=0.12, right=0.99, top=0.99, bottom=0.10, \\\n",
    "        wspace=0.22, hspace=0.0)\n",
    "    \n",
    "    ###########################\n",
    "    il = 0;   # top\n",
    "    smax = np.amax([np.amax(om1),np.amax(om2)])\n",
    "    smin = np.amin([np.amin(om1),np.amin(om2)])\n",
    "    axarr[il].set_ylim(smin,smax)\n",
    "    axarr[il].plot(tarr,om1,'.',color='black',\\\n",
    "                   ms=2,label='prim')\n",
    "    axarr[il].plot(tarr,om2,'.',color='blue',\\\n",
    "                   ms=2,label='sec')\n",
    "    mm_smo = meanmotion\n",
    "    if (len(tarr)>100):\n",
    "        mm_smo = savgol_filter(meanmotion, 21, 2, mode='nearest')\n",
    "    for j in range(1,7):\n",
    "        axarr[il].plot(tarr,mm_smo*j,':',color='brown',lw=1,alpha=0.5)\n",
    "    for j in range(0,7):\n",
    "        axarr[il].plot(tarr,mm_smo*(j+0.5),':',color='purple',lw=1,alpha=0.5)\n",
    "        \n",
    "    axarr[il].set_ylabel('spin')\n",
    "    axarr[il].legend(borderpad=0.1,labelspacing=0.1,handlelength=0.5,handletextpad=0.1,\\\n",
    "                    markerscale=2)\n",
    "    \n",
    "    ##########################\n",
    "    il = 1;\n",
    "    axarr[il].plot(tarr,obliquity_deg1,'.',color='red',\\\n",
    "                   ms=2,label='prim')\n",
    "    axarr[il].plot(tarr,obliquity_deg2,'.',color='darkorange',\\\n",
    "                   ms=2,label='sec')\n",
    "    axarr[il].set_ylabel('ob liquity (deg)')\n",
    "    axarr[il].legend(borderpad=0.1,labelspacing=0.1,handlelength=0.5,handletextpad=0.1,\\\n",
    "                    markerscale=2)\n",
    "    \n",
    "    \n",
    "    ##########################\n",
    "    il = 2;\n",
    "    amax = max(aaarr)\n",
    "    amin = min(aaarr)\n",
    "    if (amax > 5):\n",
    "        axarr[il].set_ylim(max(amin,0),5)\n",
    "    axarr[il].plot(tarr,aaarr,'.',color='green',ms=2)\n",
    "    axarr[il].set_ylabel('semi-major')\n",
    "    #axarr[il].set_ylim(bottom=2.5,top=5)\n",
    "    \n",
    "    ########################## \n",
    "    il = 3;\n",
    "    emax = max(eearr)\n",
    "    emin = min(eearr)\n",
    "    if (emax > 1):\n",
    "        axarr[il].set_ylim(0,1)\n",
    "    axarr[il].plot(tarr,eearr,'.',color='cyan',ms=2)\n",
    "    axarr[il].set_ylabel('eccentricity')\n",
    "    il = nvpanels-1;\n",
    "    axarr[il].set_xlabel('time')\n",
    "    if (len(ofilename)>3):\n",
    "        plt.savefig(ofilename)\n",
    "        \n",
    "     ########################## \n",
    "    il = 4;\n",
    "    rc_max = max(r_change)\n",
    "    rc_min = min(r_change)\n",
    "    if (rc_max > 1):\n",
    "        axarr[il].set_ylim(0,rc_max)\n",
    "    axarr[il].plot(tarr,r_change,'.',color='cyan',ms=2)\n",
    "    axarr[il].set_ylabel('Change in rotation')\n",
    "    il = nvpanels-1;\n",
    "    axarr[il].set_xlabel('time')\n",
    "    if (len(ofilename)>3):\n",
    "        plt.savefig(ofilename)   \n",
    "        \n",
    "         ########################## \n",
    "    il = 5;\n",
    "    r_max = max(r_value)\n",
    "    r_min = min(r_value)\n",
    "    if (r_max > 1):\n",
    "        axarr[il].set_ylim(0,r_max)\n",
    "    axarr[il].plot(tarr,r_value,'.',color='cyan',ms=2)\n",
    "    axarr[il].set_ylabel('Rotation')\n",
    "    il = nvpanels-1;\n",
    "    axarr[il].set_xlabel('time')\n",
    "    if (len(ofilename)>3):\n",
    "        plt.savefig(ofilename)\n",
    "    "
   ]
  },
  {
   "cell_type": "code",
   "execution_count": null,
   "metadata": {},
   "outputs": [
    {
     "name": "stdout",
     "output_type": "stream",
     "text": [
      "../bin1/e1_ext_1.txt\n",
      "../bin1/e1_ext_2.txt\n"
     ]
    }
   ],
   "source": [
    "# read in orbital elements, spins for both resolved bodies\n",
    "froot = 'e1'  # spinning up, slow initial primary\n",
    "tarr,aaarr,eearr,iiarr,lnarr,ararr,maarr,om1,om2,\\\n",
    "        obliquity_deg1,obliquity_deg2,meanmotion, rotMx, r_change,r_value = read_two_bodies(simdir,froot,GM)\n",
    "\n",
    "\n",
    "# make a plot!\n",
    "ofilename=''\n",
    "mkplot(tarr,aaarr,eearr,iiarr,lnarr,ararr,maarr,om1,om2,\\\n",
    "        obliquity_deg1,obliquity_deg2,meanmotion, rotMx, r_change,r_value,froot,ofilename)"
   ]
  },
  {
   "cell_type": "code",
   "execution_count": null,
   "metadata": {},
   "outputs": [],
   "source": [
    "# read in orbital elements, spins for both resolved bodies\n",
    "froot = 'e2'  # tides alone, slow initial primary\n",
    "tarr,aaarr,eearr,iiarr,lnarr,ararr,maarr,om1,om2,\\\n",
    "        obliquity_deg1,obliquity_deg2,meanmotion, rotMx, r_change,r_value = read_two_bodies(simdir,froot,GM)\n",
    "\n",
    "\n",
    "# make a plot!\n",
    "ofilename=''\n",
    "mkplot(tarr,aaarr,eearr,iiarr,lnarr,ararr,maarr,om1,om2,\\\n",
    "        obliquity_deg1,obliquity_deg2,meanmotion, rotMx, r_change,r_value,froot,ofilename)"
   ]
  },
  {
   "cell_type": "markdown",
   "metadata": {},
   "source": [
    "### we conclude that slow primary probably means instability"
   ]
  },
  {
   "cell_type": "code",
   "execution_count": null,
   "metadata": {},
   "outputs": [],
   "source": [
    "# read in orbital elements, spins for both resolved bodies\n",
    "froot = 'e3'  # tides alone, fast initial primary, small semi, rounder primary\n",
    "tarr,aaarr,eearr,iiarr,lnarr,ararr,maarr,om1,om2,\\\n",
    "        obliquity_deg1,obliquity_deg2,meanmotion, rotMx, r_change,r_value = read_two_bodies(simdir,froot,GM)\n",
    "\n",
    "\n",
    "# make a plot!\n",
    "ofilename=''\n",
    "mkplot(tarr,aaarr,eearr,iiarr,lnarr,ararr,maarr,om1,om2,\\\n",
    "        obliquity_deg1,obliquity_deg2,meanmotion, rotMx, r_change,r_value,froot,ofilename)"
   ]
  },
  {
   "cell_type": "code",
   "execution_count": null,
   "metadata": {},
   "outputs": [],
   "source": [
    "# was not unstable but did increase enough in eccentricity to start tumbling."
   ]
  },
  {
   "cell_type": "code",
   "execution_count": null,
   "metadata": {},
   "outputs": [],
   "source": [
    "# read in orbital elements, spins for both resolved bodies\n",
    "froot = 'e4'  # tides alone, faster initial primary, small semi, rounder primary, softer secondary\n",
    "tarr,aaarr,eearr,iiarr,lnarr,ararr,maarr,om1,om2,\\\n",
    "        obliquity_deg1,obliquity_deg2,meanmotion, rotMx, r_change,r_value = read_two_bodies(simdir,froot,GM)\n",
    "\n",
    "\n",
    "# make a plot!\n",
    "ofilename=''\n",
    "mkplot(tarr,aaarr,eearr,iiarr,lnarr,ararr,maarr,om1,om2,\\\n",
    "        obliquity_deg1,obliquity_deg2,meanmotion, rotMx, r_change,r_value,froot,ofilename)"
   ]
  },
  {
   "cell_type": "code",
   "execution_count": null,
   "metadata": {},
   "outputs": [],
   "source": []
  }
 ],
 "metadata": {
  "kernelspec": {
   "display_name": "Python 3",
   "language": "python",
   "name": "python3"
  },
  "language_info": {
   "codemirror_mode": {
    "name": "ipython",
    "version": 3
   },
   "file_extension": ".py",
   "mimetype": "text/x-python",
   "name": "python",
   "nbconvert_exporter": "python",
   "pygments_lexer": "ipython3",
   "version": "3.7.3"
  }
 },
 "nbformat": 4,
 "nbformat_minor": 4
}
