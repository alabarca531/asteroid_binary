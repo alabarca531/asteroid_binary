{
 "cells": [
  {
   "cell_type": "code",
   "execution_count": 4,
   "metadata": {},
   "outputs": [
    {
     "name": "stdout",
     "output_type": "stream",
     "text": [
      "The autoreload extension is already loaded. To reload it, use:\n",
      "  %reload_ext autoreload\n"
     ]
    }
   ],
   "source": [
    "%matplotlib inline\n",
    "import numpy as np\n",
    "import matplotlib.pyplot as plt\n",
    "\n",
    "#import autoreload  (for debugging external subroutines)\n",
    "%load_ext autoreload\n",
    "%autoreload 2\n",
    "\n",
    "# subroutines needed, we also need kepcart.py\n",
    "from orbsubs import *  \n",
    "from outils import *\n",
    "from scipy.signal import savgol_filter    \n",
    "\n",
    "plt.rcParams.update({'font.size': 14})"
   ]
  },
  {
   "cell_type": "code",
   "execution_count": 5,
   "metadata": {},
   "outputs": [],
   "source": [
    "# global information needed!\n",
    "simdir = \"../bin1/\" # where simulation output files are found\n",
    "froot = 'a1'  # pure tidal evolution\n",
    "   \n",
    "m1 = 1.0;  # masses of the two bodies!  Globals!\n",
    "m2 = 0.1;  # This is too big to be Dimorphous !!!!!! but is consistent with simulations\n",
    "GM = m1+m2 # G=1"
   ]
  },
  {
   "cell_type": "markdown",
   "metadata": {},
   "source": [
    "# Tidal Lock Torque"
   ]
  },
  {
   "cell_type": "code",
   "execution_count": null,
   "metadata": {},
   "outputs": [],
   "source": [
    "#Needed Variables\n",
    "G1 = 1.0*10**14 #Solar Radiation Constant, kg*km*s^-2\n"
   ]
  }
 ],
 "metadata": {
  "kernelspec": {
   "display_name": "Python 3",
   "language": "python",
   "name": "python3"
  },
  "language_info": {
   "codemirror_mode": {
    "name": "ipython",
    "version": 3
   },
   "file_extension": ".py",
   "mimetype": "text/x-python",
   "name": "python",
   "nbconvert_exporter": "python",
   "pygments_lexer": "ipython3",
   "version": "3.7.3"
  }
 },
 "nbformat": 4,
 "nbformat_minor": 4
}
